{
 "cells": [
  {
   "cell_type": "code",
   "execution_count": 70,
   "metadata": {},
   "outputs": [],
   "source": [
    "import json\n",
    "import os\n",
    "import pandas as pd\n",
    "import numpy as np\n",
    "import requests as req\n",
    "import random"
   ]
  },
  {
   "cell_type": "markdown",
   "metadata": {},
   "source": [
    "## Reporte de ventas"
   ]
  },
  {
   "cell_type": "code",
   "execution_count": 16,
   "metadata": {},
   "outputs": [],
   "source": [
    "# Crear un df con la columnas \"fechas - pasado - final\"\n",
    "reporte = pd.DataFrame(columns=['fecha', 'Monto Pasado', 'Monto Actual'])\n",
    "reporte.to_csv('reporte.csv', index=False)"
   ]
  },
  {
   "cell_type": "markdown",
   "metadata": {},
   "source": [
    "## Configuración"
   ]
  },
  {
   "cell_type": "code",
   "execution_count": 71,
   "metadata": {},
   "outputs": [],
   "source": [
    "# Datos \n",
    "\n",
    "dic_datos = {\n",
    "    \"fechas\" : [\"2024-10-04\"],\n",
    "    \"montos_reporte\": [11962],\n",
    "    \"monto_limite\": 6000,\n",
    "    \"servidor\" : \"127.0.0.1\",\n",
    "    \"productos\" : [\"034003\", \"042035\"]\n",
    "}\n",
    "\n",
    "# Crear un directorio para guardar los datos"
   ]
  },
  {
   "cell_type": "markdown",
   "metadata": {},
   "source": [
    "## API"
   ]
  },
  {
   "cell_type": "code",
   "execution_count": 72,
   "metadata": {},
   "outputs": [],
   "source": [
    "api = f'http://{dic_datos[\"servidor\"]}:8000/florcatorce/'"
   ]
  },
  {
   "cell_type": "markdown",
   "metadata": {},
   "source": [
    "## Obtener las ventas consumiento la API"
   ]
  },
  {
   "cell_type": "code",
   "execution_count": 73,
   "metadata": {},
   "outputs": [
    {
     "name": "stdout",
     "output_type": "stream",
     "text": [
      "El mantenimiento acabo con 6889.799999999999 en la fecha 2024-10-02\n",
      "El mantenimiento acabo con 6964.0 en la fecha 2024-10-05\n"
     ]
    }
   ],
   "source": [
    "i = 0\n",
    "for fecha in dic_datos[\"fechas\"]:\n",
    "    ventas = req.post(f'{api}ventas', json={\"fecha\": fecha})\n",
    "    # Crear un marco de trabajo\n",
    "    df = pd.DataFrame(ventas.json())\n",
    "    # Cambiar los tipos de datos\n",
    "    df[\"efectivo\"] = df[\"efectivo\"].astype(float)\n",
    "    df[\"tarjeta\"] = df[\"tarjeta\"].astype(float)\n",
    "    df[\"total\"] = df[\"total\"].astype(float)\n",
    "    # Obtener los folios para hacer mantenimiento\n",
    "    df_folios = df[(df[\"efectivo\"] >= 120) & (df[\"tarjeta\"] == 0) & (df[\"facturado\"] == False)]\n",
    "    # Crear un array de folios\n",
    "    folios_array = np.array(df_folios[\"folio\"])\n",
    "    random.shuffle(folios_array)\n",
    "    total_folios = np.size(folios_array)\n",
    "    # Crear un array de efectivo\n",
    "    efectivo_array = np.array(df_folios[\"efectivo\"])\n",
    "    total_efectivo = np.sum(efectivo_array)\n",
    "    # Abrir el archivo de reporte\n",
    "    df_reporte = pd.read_csv('reporte.csv')\n",
    "    # Empezar con el mantenimiento de ventas\n",
    "    efectivo_folios = 0\n",
    "    for folio in folios_array:\n",
    "        producto_select = np.random.choice(dic_datos[\"productos\"])\n",
    "        try:\n",
    "            update = req.patch(f'{api}mantenimiento/{folio}', json={\"cantidad_articulos\": 1,\"producto\": producto_select})\n",
    "        except Exception as e:\n",
    "            print(e)\n",
    "            exit()\n",
    "        efectivo_folio = df_folios[df_folios[\"folio\"] == folio][\"efectivo\"].values[0]\n",
    "        efectivo_folios += efectivo_folio\n",
    "        \n",
    "        if producto_select == \"034003\":\n",
    "            efectivo_folios -= 80\n",
    "        elif producto_select == \"042035\":\n",
    "            efectivo_folios -= 40\n",
    "        \n",
    "        # Determinar si el proceso sigue o no\n",
    "        flag = dic_datos[\"montos_reporte\"][i] - efectivo_folios\n",
    "        if flag > 6000 and flag < 7050:\n",
    "            print(f'El mantenimiento acabo con {flag} en la fecha {fecha}')\n",
    "            break\n",
    "    i += 1"
   ]
  }
 ],
 "metadata": {
  "kernelspec": {
   "display_name": "nexium",
   "language": "python",
   "name": "python3"
  },
  "language_info": {
   "codemirror_mode": {
    "name": "ipython",
    "version": 3
   },
   "file_extension": ".py",
   "mimetype": "text/x-python",
   "name": "python",
   "nbconvert_exporter": "python",
   "pygments_lexer": "ipython3",
   "version": "3.11.10"
  }
 },
 "nbformat": 4,
 "nbformat_minor": 2
}
