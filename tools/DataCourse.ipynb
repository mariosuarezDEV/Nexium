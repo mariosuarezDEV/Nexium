{
 "cells": [
  {
   "cell_type": "markdown",
   "metadata": {},
   "source": [
    "# Uso de pandas"
   ]
  },
  {
   "cell_type": "code",
   "execution_count": 3,
   "metadata": {},
   "outputs": [],
   "source": [
    "import pandas as pd"
   ]
  },
  {
   "cell_type": "markdown",
   "metadata": {},
   "source": [
    "## Funciones"
   ]
  },
  {
   "cell_type": "markdown",
   "metadata": {},
   "source": [
    "df = dataframe (marco de datos)\n",
    "read_cvs(path)\n",
    "\n",
    "Podemos leer archivos cvs - xlsx\n",
    "\n",
    "Un marco de datos o trabajo se compone de columnas (acostados) y filas (parados)\n",
    "\n",
    "Podemos crear un dataframe apartir de un diccionario\n"
   ]
  },
  {
   "cell_type": "code",
   "execution_count": 5,
   "metadata": {},
   "outputs": [],
   "source": [
    "diccionario = {\n",
    "    \"lenguajes\": [\"python\", \"java\", \"c++\"],\n",
    "    \"nivel_conocimiento\": [\"básico\", \"intermedio\", \"avanzado\"],\n",
    "    \"años_experiencia\": [1, 3, 5]\n",
    "}"
   ]
  },
  {
   "cell_type": "markdown",
   "metadata": {},
   "source": [
    "Las claves son las columnas y los valores las filas"
   ]
  },
  {
   "cell_type": "code",
   "execution_count": 10,
   "metadata": {},
   "outputs": [
    {
     "name": "stdout",
     "output_type": "stream",
     "text": [
      "  lenguajes nivel_conocimiento  años_experiencia\n",
      "0    python             básico                 1\n",
      "1      java         intermedio                 3\n",
      "2       c++           avanzado                 5\n"
     ]
    }
   ],
   "source": [
    "# Crear un DataFrame a partir de un diccionario\n",
    "df = pd.DataFrame(diccionario)\n",
    "print(df)"
   ]
  },
  {
   "cell_type": "code",
   "execution_count": 12,
   "metadata": {},
   "outputs": [
    {
     "name": "stdout",
     "output_type": "stream",
     "text": [
      "0    python\n",
      "1      java\n",
      "2       c++\n",
      "Name: lenguajes, dtype: object\n"
     ]
    }
   ],
   "source": [
    "# Podemos obtener información de las columnas\n",
    "get_lenguajes = df[\"lenguajes\"]\n",
    "print(get_lenguajes)"
   ]
  },
  {
   "cell_type": "markdown",
   "metadata": {},
   "source": [
    "Para acceder podemos usar el metodo iloc que recibe como parametros los indices\n"
   ]
  },
  {
   "cell_type": "code",
   "execution_count": 13,
   "metadata": {},
   "outputs": [
    {
     "name": "stdout",
     "output_type": "stream",
     "text": [
      "python\n"
     ]
    }
   ],
   "source": [
    "primer_elemento_columna_fila = df.iloc[0,0] #el primer parametro es la fila y el segundo la columna\n",
    "print(primer_elemento_columna_fila)"
   ]
  },
  {
   "cell_type": "markdown",
   "metadata": {},
   "source": [
    "Tambien tenemos el metodo loc que escribimos la columna deseada y la fila la seleccionamos con el indice."
   ]
  },
  {
   "cell_type": "code",
   "execution_count": 15,
   "metadata": {},
   "outputs": [
    {
     "name": "stdout",
     "output_type": "stream",
     "text": [
      "intermedio\n"
     ]
    }
   ],
   "source": [
    "segundo_elemento_columna_fila = df.loc[1,\"nivel_conocimiento\"]\n",
    "print(segundo_elemento_columna_fila)"
   ]
  },
  {
   "cell_type": "markdown",
   "metadata": {},
   "source": [
    "# Trabar y Guardar con Pandas"
   ]
  },
  {
   "cell_type": "markdown",
   "metadata": {},
   "source": [
    "si tenemos una columna seleccionada, podemos aplicar el metodo **unique** para obtener todos los valores unicos (que se repiten dos o mas veces)"
   ]
  },
  {
   "cell_type": "markdown",
   "metadata": {},
   "source": [
    "Podemos guardar un marco de trabajo usando el metodo: **to_cvs(\"path.cvs)**"
   ]
  },
  {
   "cell_type": "markdown",
   "metadata": {},
   "source": [
    "## Practica"
   ]
  },
  {
   "cell_type": "code",
   "execution_count": 4,
   "metadata": {},
   "outputs": [],
   "source": [
    "data = {\n",
    "    \"folios\": [1, 2, 3, 4, 5],\n",
    "    \"total\": [100, 200, 300, 400, 500],\n",
    "    \"factuado\": [True, False, True, False, True]\n",
    "}"
   ]
  },
  {
   "cell_type": "code",
   "execution_count": 5,
   "metadata": {},
   "outputs": [],
   "source": [
    "# Guardar los datos en un DataFrame\n",
    "df = pd.DataFrame(data)"
   ]
  },
  {
   "cell_type": "code",
   "execution_count": 6,
   "metadata": {},
   "outputs": [],
   "source": [
    "# Generar el archivo CSV\n",
    "df.to_csv(\"data.csv\")"
   ]
  },
  {
   "cell_type": "code",
   "execution_count": 9,
   "metadata": {},
   "outputs": [
    {
     "name": "stdout",
     "output_type": "stream",
     "text": [
      "0    100\n",
      "1    200\n",
      "2    300\n",
      "3    400\n",
      "4    500\n",
      "Name: total, dtype: int64\n",
      "1500\n"
     ]
    }
   ],
   "source": [
    "# Obtener el total de la columna \"total\"\n",
    "total = df[\"total\"].sum()\n",
    "print(df[\"total\"])\n",
    "print(total)"
   ]
  },
  {
   "cell_type": "code",
   "execution_count": 10,
   "metadata": {},
   "outputs": [
    {
     "name": "stdout",
     "output_type": "stream",
     "text": [
      "   folios  total  factuado\n",
      "1       2    200     False\n",
      "3       4    400     False\n"
     ]
    }
   ],
   "source": [
    "# Obtener solo los folios que no estan facturados\n",
    "no_facturados = df[df[\"factuado\"] == False]\n",
    "print(no_facturados)"
   ]
  },
  {
   "cell_type": "code",
   "execution_count": 11,
   "metadata": {},
   "outputs": [
    {
     "name": "stdout",
     "output_type": "stream",
     "text": [
      "   folios  total  factuado\n",
      "0       1    100      True\n",
      "2       3    300      True\n",
      "4       5    500      True\n"
     ]
    }
   ],
   "source": [
    "# Obtener los folios facturados\n",
    "facturados = df[df[\"factuado\"] == True]\n",
    "print(facturados)"
   ]
  },
  {
   "cell_type": "code",
   "execution_count": 43,
   "metadata": {},
   "outputs": [
    {
     "name": "stdout",
     "output_type": "stream",
     "text": [
      "   folios  total\n",
      "0       1    100\n",
      "2       3    300\n",
      "4       5    500\n"
     ]
    }
   ],
   "source": [
    "# Guardar los datos en un archivo CSV (facturados)\n",
    "facturado = df[df[\"factuado\"] == True]\n",
    "# Quitar la columna \"facturado\"\n",
    "facturado = facturado[[\"folios\", \"total\"]]\n",
    "print(facturado)\n",
    "facturado.to_csv(\"Formato_Facturado.csv\")"
   ]
  }
 ],
 "metadata": {
  "kernelspec": {
   "display_name": "nexium",
   "language": "python",
   "name": "python3"
  },
  "language_info": {
   "codemirror_mode": {
    "name": "ipython",
    "version": 3
   },
   "file_extension": ".py",
   "mimetype": "text/x-python",
   "name": "python",
   "nbconvert_exporter": "python",
   "pygments_lexer": "ipython3",
   "version": "3.11.10"
  }
 },
 "nbformat": 4,
 "nbformat_minor": 2
}
