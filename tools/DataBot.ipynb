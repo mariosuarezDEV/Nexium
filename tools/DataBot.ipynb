{
 "cells": [
  {
   "cell_type": "markdown",
   "metadata": {},
   "source": [
    "# Bot que realiza mantenimiento de ventas"
   ]
  },
  {
   "cell_type": "markdown",
   "metadata": {},
   "source": [
    "Información requerida:\n",
    "- Fecha (Esta es la fecha en la que el bot va a realizar el mantenimiento de ventas) con el formato AAAA-MM-DD.\n",
    "- Monto inicial (El monto inicial hace referencia a el total de efectivo reportado de la fecha seleccionada).\n",
    "- Productos (Basta con sacar el id o clave del producto del **BackOffice** y agregarlo a la lista de productos, el bot automaticamente y de forma random seleccionara un producto y realizara la sustitución)\n",
    "\n",
    "### Servidores:\n",
    "- Centro: 192.168.193.252\n",
    "- Araucarias: 192.168.193.250\n",
    "- CEDIS: 192.168.193.109"
   ]
  },
  {
   "cell_type": "code",
   "execution_count": 42,
   "metadata": {},
   "outputs": [],
   "source": [
    "# Dependencias\n",
    "import requests\n",
    "import random\n",
    "from IPython.display import Markdown as md\n",
    "import json"
   ]
  },
  {
   "cell_type": "markdown",
   "metadata": {},
   "source": [
    "## Fecha y Efectivo reportado\n",
    "Llena los siguientes datos con tus especificaciones."
   ]
  },
  {
   "cell_type": "code",
   "execution_count": 2,
   "metadata": {},
   "outputs": [],
   "source": [
    "datos ={\n",
    "    \"fecha\": \"2024-08-08\",\n",
    "    \"efectivo_inicial\": 24878.30,\n",
    "    \"servidor\": \"127.0.0.1\"\n",
    "}"
   ]
  },
  {
   "cell_type": "code",
   "execution_count": 3,
   "metadata": {},
   "outputs": [],
   "source": [
    "corte = datos[\"efectivo_inicial\"] / 2 # Esto es el corte al 50%"
   ]
  },
  {
   "cell_type": "markdown",
   "metadata": {},
   "source": [
    "## Lista de productos\n",
    "En esta lista solo debes agregar el id o clave del producto seleccionado en el **BackOffice**"
   ]
  },
  {
   "cell_type": "code",
   "execution_count": 4,
   "metadata": {},
   "outputs": [],
   "source": [
    "productos = [\"034003\", \"042035\"]\n",
    "random.shuffle(productos) # Mezclar los productos"
   ]
  },
  {
   "cell_type": "markdown",
   "metadata": {},
   "source": [
    "## Detalles de los productos\n",
    "034003 -> Cafe en grano = $80\n",
    "\n",
    "042035 -> Pan para llevar = $40"
   ]
  },
  {
   "cell_type": "markdown",
   "metadata": {},
   "source": [
    "## Obtener Folios\n",
    "El diccionario de ventas se obtiene desde la API:\n",
    "\n",
    "*http://127.0.0.1:8000/mantenimiento/cuentas/efectivo*\n",
    "\n",
    "Esto obtiene folios con el siguiente filtro:\n",
    "- Cuentas en efectivo\n",
    "- Monto mayor a $120\n",
    "- No facturado"
   ]
  },
  {
   "cell_type": "code",
   "execution_count": 5,
   "metadata": {},
   "outputs": [
    {
     "name": "stdout",
     "output_type": "stream",
     "text": [
      "Se obtuvieron las ventas en efectivo correctamente. \n",
      "Total de folios obtenidos: 62\n"
     ]
    }
   ],
   "source": [
    "# Endpoint donde se obtiene la información de las ventas en efectivo\n",
    "endpoint_ventas_efectivo = f'http://{datos[\"servidor\"]}:8000/mantenimiento/cuentas/efectivo'\n",
    "\n",
    "# Obtener la información de las ventas en efectivo\n",
    "try:\n",
    "    # El JSON que se le pasa es para que filtre las ventas de un día en específico.\n",
    "    ventas_json = requests.get(endpoint_ventas_efectivo, json=datos)\n",
    "    print(f'Se obtuvieron las ventas en efectivo correctamente. \\nTotal de folios obtenidos: {len(ventas_json.json())}')\n",
    "except Exception as e:\n",
    "    print(f\"Error al obtener la información de las ventas en efectivo: {e}\")"
   ]
  },
  {
   "cell_type": "markdown",
   "metadata": {},
   "source": [
    "### Lista de Folios\n",
    "Un ejemplo de la salida de ventas_json es el siguiente:\n",
    "\n",
    "\n",
    "**[{\"folio\": 3328, \"total\": \"248.0000\"}, {\"folio\": 3330, \"total\": \"253.0000\"}]**\n",
    "\n",
    "\n",
    "En la proxima linea de codigo:\n",
    "\n",
    "\n",
    "Los folios serán guardados en una lista para poder iterar sobre ellos y poder hacer el mantenimiento de ventas."
   ]
  },
  {
   "cell_type": "code",
   "execution_count": 6,
   "metadata": {},
   "outputs": [],
   "source": [
    "# obtener los folios de la venta\n",
    "folios_crudo = [folio[\"folio\"] for folio in ventas_json.json()]\n",
    "\n",
    "# Mezclar los folios\n",
    "random.shuffle(folios_crudo)"
   ]
  },
  {
   "cell_type": "markdown",
   "metadata": {},
   "source": [
    "## Mantenimiento de ventas\n",
    "**Nota:** En el siguiente bloque de código se hará la sustitución de los productos en cada una de las ventas, este proceso es automatico, recuerda que hasta este punto cuentas con todos los folios de la fecha ingresada, tienes una cantidad de efectivo inicial y un corte que sirve para parar el mantenimiento de las cuentas. Los productos de los folios serán sustituidos por los productos que estan en la lista.\n",
    "\n",
    "### Recuerda:\n",
    "- Tener respaldo de la base de datos.\n",
    "- Tener un reporte de corte de caja y un reporte de cuentas desgloze.\n",
    "- Hacer la sincronización.\n",
    "- Validar que los folios que solicitaron facturación ya esten completos."
   ]
  },
  {
   "cell_type": "code",
   "execution_count": 7,
   "metadata": {},
   "outputs": [
    {
     "name": "stdout",
     "output_type": "stream",
     "text": [
      "Se actualizó la venta con folio 637 con el producto 'Café en grano 1/4'.\n",
      "Se actualizó la venta con folio 702 con el producto 'Café en grano 1/4'.\n",
      "Se actualizó la venta con folio 642 con el producto 'Pan para llevar'.\n",
      "Se actualizó la venta con folio 625 con el producto 'Café en grano 1/4'.\n",
      "Se actualizó la venta con folio 683 con el producto 'Pan para llevar'.\n",
      "Se actualizó la venta con folio 682 con el producto 'Café en grano 1/4'.\n",
      "Se actualizó la venta con folio 699 con el producto 'Pan para llevar'.\n",
      "Se actualizó la venta con folio 705 con el producto 'Pan para llevar'.\n",
      "Se actualizó la venta con folio 572 con el producto 'Pan para llevar'.\n",
      "Se actualizó la venta con folio 613 con el producto 'Café en grano 1/4'.\n",
      "Se actualizó la venta con folio 560 con el producto 'Café en grano 1/4'.\n",
      "Se actualizó la venta con folio 594 con el producto 'Pan para llevar'.\n",
      "Se actualizó la venta con folio 668 con el producto 'Café en grano 1/4'.\n",
      "Se actualizó la venta con folio 616 con el producto 'Pan para llevar'.\n",
      "Se actualizó la venta con folio 568 con el producto 'Café en grano 1/4'.\n",
      "Se actualizó la venta con folio 733 con el producto 'Café en grano 1/4'.\n",
      "Se actualizó la venta con folio 580 con el producto 'Café en grano 1/4'.\n",
      "Se actualizó la venta con folio 593 con el producto 'Café en grano 1/4'.\n",
      "Se actualizó la venta con folio 721 con el producto 'Pan para llevar'.\n",
      "Se actualizó la venta con folio 576 con el producto 'Pan para llevar'.\n",
      "Se actualizó la venta con folio 579 con el producto 'Café en grano 1/4'.\n",
      "Se actualizó la venta con folio 653 con el producto 'Café en grano 1/4'.\n",
      "Se actualizó la venta con folio 601 con el producto 'Café en grano 1/4'.\n",
      "Se actualizó la venta con folio 686 con el producto 'Pan para llevar'.\n",
      "Se actualizó la venta con folio 611 con el producto 'Café en grano 1/4'.\n",
      "Se actualizó la venta con folio 589 con el producto 'Café en grano 1/4'.\n",
      "Se actualizó la venta con folio 639 con el producto 'Café en grano 1/4'.\n",
      "Se actualizó la venta con folio 706 con el producto 'Café en grano 1/4'.\n",
      "Se actualizó la venta con folio 713 con el producto 'Café en grano 1/4'.\n",
      "Se actualizó la venta con folio 564 con el producto 'Pan para llevar'.\n",
      "Se actualizó la venta con folio 687 con el producto 'Café en grano 1/4'.\n",
      "Se actualizó la venta con folio 731 con el producto 'Pan para llevar'.\n",
      "Se actualizó la venta con folio 740 con el producto 'Café en grano 1/4'.\n",
      "Se actualizó la venta con folio 563 con el producto 'Café en grano 1/4'.\n",
      "Se actualizó la venta con folio 622 con el producto 'Pan para llevar'.\n",
      "Se actualizó la venta con folio 670 con el producto 'Pan para llevar'.\n",
      "Se actualizó la venta con folio 665 con el producto 'Café en grano 1/4'.\n",
      "Se actualizó la venta con folio 735 con el producto 'Pan para llevar'.\n",
      "Se actualizó la venta con folio 631 con el producto 'Pan para llevar'.\n",
      "Se actualizó la venta con folio 651 con el producto 'Pan para llevar'.\n",
      "Se actualizó la venta con folio 596 con el producto 'Café en grano 1/4'.\n",
      "Se ha llegado al corte del 50%.\n"
     ]
    }
   ],
   "source": [
    "total_afectado = 0\n",
    "folios_afectados = []\n",
    "for folio in folios_crudo:\n",
    "    body_json ={\n",
    "        \"cantidad\": 1,\n",
    "        \"idproducto\": random.choice(productos), # Escoger un producto al azar (antes se mezclaron los productos)\n",
    "    }\n",
    "    api_mantenimiento = f'http://{datos[\"servidor\"]}:8000/mantenimiento/actualizar/{folio}/'\n",
    "    try:\n",
    "        # Se manda la petición a la API para actualizar la venta\n",
    "        response = requests.put(api_mantenimiento, json=body_json)\n",
    "        if response.status_code == 200:\n",
    "            # Cuenta de los productos que se actualizaron\n",
    "            folios_afectados.append(folio)\n",
    "            total_afectado += float(ventas_json.json()[folios_crudo.index(folio)][\"total\"])\n",
    "            if body_json[\"idproducto\"] == \"034003\":\n",
    "                print(f\"Se actualizó la venta con folio {folio} con el producto 'Café en grano 1/4'.\")\n",
    "                total_afectado -= 80\n",
    "            if body_json[\"idproducto\"] == \"042035\":\n",
    "                print(f\"Se actualizó la venta con folio {folio} con el producto 'Pan para llevar'.\")\n",
    "                total_afectado -= 40\n",
    "            # Parar si ya tenemos el 50% afectado\n",
    "            if total_afectado >= corte:\n",
    "                print(f\"Se ha llegado al corte del 50%.\")\n",
    "                break\n",
    "        else:\n",
    "            print(f\"No se pudo actualizar la venta con folio {folio}.\")\n",
    "    except Exception as e:\n",
    "        print(f\"No se pudo actualizar la venta con folio {folio}.\\nDetalles del error: {e}\")\n"
   ]
  },
  {
   "cell_type": "code",
   "execution_count": 17,
   "metadata": {},
   "outputs": [],
   "source": [
    "api_desglose = f'http://{datos[\"servidor\"]}:8000/mantenimiento/cuentas/sustituidas'\n",
    "cuentas_desglose = requests.get(api_desglose, json=datos)"
   ]
  },
  {
   "cell_type": "code",
   "execution_count": 53,
   "metadata": {},
   "outputs": [
    {
     "data": {
      "text/markdown": [
       "# Reporte final\n",
       "\n",
       "#### Ventas obtenidas: 62 \n",
       "\n",
       "### Se afectó el 50% de las ventas en efectivo.\n",
       "\n",
       "#### Efectivo inicial: $24878.3\n",
       "\n",
       "#### Efectivo final: $12419.3\n",
       "\n",
       "#### Efectivo afectado: $12459.0\n",
       "\n",
       "#### Folios afectados: \n",
       "\n",
       "[637, 702, 642, 625, 683, 682, 699, 705, 572, 613, 560, 594, 668, 616, 568, 733, 580, 593, 721, 576, 579, 653, 601, 686, 611, 589, 639, 706, 713, 564, 687, 731, 740, 563, 622, 670, 665, 735, 631, 651, 596]\n",
       "\n",
       "## Cuentas desglose:\n",
       "\n",
       "[{\"folio\": 713, \"total\": \"80.0000\"}, {\"folio\": 733, \"total\": \"80.0000\"}, {\"folio\": 637, \"total\": \"80.0000\"}, {\"folio\": 668, \"total\": \"80.0000\"}, {\"folio\": 579, \"total\": \"80.0000\"}, {\"folio\": 653, \"total\": \"80.0000\"}, {\"folio\": 639, \"total\": \"80.0000\"}, {\"folio\": 686, \"total\": \"40.0000\"}, {\"folio\": 601, \"total\": \"80.0000\"}, {\"folio\": 580, \"total\": \"80.0000\"}, {\"folio\": 611, \"total\": \"80.0000\"}, {\"folio\": 651, \"total\": \"40.0000\"}, {\"folio\": 568, \"total\": \"80.0000\"}, {\"folio\": 705, \"total\": \"40.0000\"}, {\"folio\": 616, \"total\": \"40.0000\"}, {\"folio\": 670, \"total\": \"40.0000\"}, {\"folio\": 564, \"total\": \"40.0000\"}, {\"folio\": 576, \"total\": \"40.0000\"}, {\"folio\": 665, \"total\": \"80.0000\"}, {\"folio\": 625, \"total\": \"80.0000\"}, {\"folio\": 594, \"total\": \"40.0000\"}, {\"folio\": 560, \"total\": \"80.0000\"}, {\"folio\": 589, \"total\": \"80.0000\"}, {\"folio\": 613, \"total\": \"80.0000\"}, {\"folio\": 631, \"total\": \"40.0000\"}, {\"folio\": 731, \"total\": \"40.0000\"}, {\"folio\": 622, \"total\": \"40.0000\"}, {\"folio\": 683, \"total\": \"40.0000\"}, {\"folio\": 702, \"total\": \"80.0000\"}, {\"folio\": 699, \"total\": \"40.0000\"}, {\"folio\": 572, \"total\": \"40.0000\"}, {\"folio\": 682, \"total\": \"80.0000\"}, {\"folio\": 563, \"total\": \"80.0000\"}, {\"folio\": 721, \"total\": \"40.0000\"}, {\"folio\": 593, \"total\": \"80.0000\"}, {\"folio\": 687, \"total\": \"80.0000\"}, {\"folio\": 740, \"total\": \"80.0000\"}, {\"folio\": 596, \"total\": \"80.0000\"}, {\"folio\": 642, \"total\": \"40.0000\"}, {\"folio\": 735, \"total\": \"40.0000\"}, {\"folio\": 706, \"total\": \"80.0000\"}]\n",
       "\n",
       "\n",
       "\n",
       " **DataBot** - 2024-08-08."
      ],
      "text/plain": [
       "<IPython.core.display.Markdown object>"
      ]
     },
     "execution_count": 53,
     "metadata": {},
     "output_type": "execute_result"
    }
   ],
   "source": [
    "md(f'# Reporte final\\n\\n'\n",
    "   f'#### Ventas obtenidas: {len(ventas_json.json())} \\n\\n'\n",
    "   f'### Se afectó el 50% de las ventas en efectivo.\\n\\n'\n",
    "   f'#### Efectivo inicial: ${datos[\"efectivo_inicial\"]}\\n\\n'\n",
    "   f'#### Efectivo final: ${datos[\"efectivo_inicial\"] - total_afectado}\\n\\n'\n",
    "   f'#### Efectivo afectado: ${total_afectado}\\n\\n'\n",
    "   f'#### Folios afectados: \\n\\n{folios_afectados}\\n\\n'\n",
    "   f'## Cuentas desglose:\\n\\n'\n",
    "   f'{json.dumps(cuentas_desglose.json())}\\n\\n'\n",
    "   f'\\n\\n **DataBot** - {datos[\"fecha\"]}.'\n",
    "   )"
   ]
  },
  {
   "cell_type": "markdown",
   "metadata": {},
   "source": [
    "# Cuentas en efectivo facturas.\n",
    "Este modulo es especial para sacar los reportes de efectivo facturado."
   ]
  },
  {
   "cell_type": "code",
   "execution_count": 54,
   "metadata": {},
   "outputs": [],
   "source": [
    "# Endpoint para obtener las ventas facturadas\n",
    "api_efectivo_facturado = f'http://{datos[\"servidor\"]}:8000/mantenimiento/cuentas/efectivo/facturado'\n",
    "# Obtener las ventas facturadas\n",
    "ventas_facturadas = requests.get(api_efectivo_facturado, json=datos)"
   ]
  },
  {
   "cell_type": "code",
   "execution_count": 55,
   "metadata": {},
   "outputs": [],
   "source": [
    "# Crear una lista de folios facturados\n",
    "folios_facturados = [folio[\"folio\"] for folio in ventas_facturadas.json()]\n",
    "\n",
    "# Contador para el total facturado\n",
    "total_facturado = 0"
   ]
  },
  {
   "cell_type": "code",
   "execution_count": 56,
   "metadata": {},
   "outputs": [
    {
     "name": "stdout",
     "output_type": "stream",
     "text": [
      "Folio 689 - Total: $312.0000\n"
     ]
    }
   ],
   "source": [
    "# Algortimo para imprimir los folios facturados y el total de cada uno\n",
    "for folio in folios_facturados:\n",
    "    print(f'Folio {folio} - Total: ${ventas_facturadas.json()[folios_facturados.index(folio)][\"total\"]}')\n",
    "    total_facturado += float(ventas_facturadas.json()[folios_facturados.index(folio)][\"total\"])"
   ]
  },
  {
   "cell_type": "code",
   "execution_count": 57,
   "metadata": {},
   "outputs": [
    {
     "name": "stdout",
     "output_type": "stream",
     "text": [
      "Total facturado: $312.0\n"
     ]
    }
   ],
   "source": [
    "print(f'Total facturado: ${total_facturado}')"
   ]
  }
 ],
 "metadata": {
  "kernelspec": {
   "display_name": "nexium",
   "language": "python",
   "name": "python3"
  },
  "language_info": {
   "codemirror_mode": {
    "name": "ipython",
    "version": 3
   },
   "file_extension": ".py",
   "mimetype": "text/x-python",
   "name": "python",
   "nbconvert_exporter": "python",
   "pygments_lexer": "ipython3",
   "version": "3.11.9"
  }
 },
 "nbformat": 4,
 "nbformat_minor": 2
}
