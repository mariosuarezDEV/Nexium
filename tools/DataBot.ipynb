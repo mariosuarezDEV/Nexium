{
 "cells": [
  {
   "cell_type": "markdown",
   "metadata": {},
   "source": [
    "# Bot que realiza mantenimiento de ventas"
   ]
  },
  {
   "cell_type": "markdown",
   "metadata": {},
   "source": [
    "### Información requerida:\n",
    "- Fecha (Esta es la fecha en la que el bot va a realizar el mantenimiento de ventas) con el formato AAAA-MM-DD.\n",
    "- Monto inicial (El monto inicial hace referencia a el total de efectivo reportado de la fecha seleccionada).\n",
    "- Productos (Basta con sacar el id o clave del producto del **BackOffice** y agregarlo a la lista de productos, el bot automaticamente y de forma random seleccionara un producto y realizara la sustitución)\n",
    "\n",
    "### Servidores:\n",
    "- Centro: 192.168.193.252\n",
    "- Araucarias: 192.168.193.250\n",
    "- CEDIS: 192.168.193.109\n",
    "- Pruebas: 192.168.193.61"
   ]
  },
  {
   "cell_type": "code",
   "execution_count": null,
   "metadata": {},
   "outputs": [],
   "source": [
    "# Dependencias\n",
    "import requests\n",
    "import random\n",
    "from IPython.display import Markdown as md\n",
    "import json"
   ]
  },
  {
   "cell_type": "markdown",
   "metadata": {},
   "source": [
    "## Fecha y Efectivo reportado\n",
    "Llena los siguientes datos con tus especificaciones."
   ]
  },
  {
   "cell_type": "code",
   "execution_count": null,
   "metadata": {},
   "outputs": [],
   "source": [
    "datos ={\n",
    "    \"fecha\": \"2024-08-08\",\n",
    "    \"efectivo_inicial\": 24878.30,\n",
    "    \"servidor\": \"192.168.193.61\"\n",
    "}"
   ]
  },
  {
   "cell_type": "code",
   "execution_count": null,
   "metadata": {},
   "outputs": [],
   "source": [
    "corte = datos[\"efectivo_inicial\"] / 2 # Esto es el corte al 50%"
   ]
  },
  {
   "cell_type": "markdown",
   "metadata": {},
   "source": [
    "## Lista de productos\n",
    "En esta lista solo debes agregar el id o clave del producto seleccionado en el **BackOffice**"
   ]
  },
  {
   "cell_type": "code",
   "execution_count": null,
   "metadata": {},
   "outputs": [],
   "source": [
    "productos = [\"034003\", \"042035\"]\n",
    "random.shuffle(productos) # Mezclar los productos"
   ]
  },
  {
   "cell_type": "markdown",
   "metadata": {},
   "source": [
    "## Detalles de los productos\n",
    "034003 -> Cafe en grano = $80\n",
    "\n",
    "042035 -> Pan para llevar = $40"
   ]
  },
  {
   "cell_type": "markdown",
   "metadata": {},
   "source": [
    "## Obtener Folios\n",
    "El diccionario de ventas se obtiene desde la API:\n",
    "\n",
    "*http://127.0.0.1:8000/mantenimiento/cuentas/efectivo*\n",
    "\n",
    "Esto obtiene folios con el siguiente filtro:\n",
    "- Cuentas en efectivo\n",
    "- Monto mayor a $120\n",
    "- No facturado"
   ]
  },
  {
   "cell_type": "code",
   "execution_count": null,
   "metadata": {},
   "outputs": [],
   "source": [
    "# Endpoint donde se obtiene la información de las ventas en efectivo\n",
    "endpoint_ventas_efectivo = f'http://{datos[\"servidor\"]}:8000/mantenimiento/cuentas/efectivo'\n",
    "\n",
    "# Obtener la información de las ventas en efectivo\n",
    "try:\n",
    "    # El JSON que se le pasa es para que filtre las ventas de un día en específico.\n",
    "    ventas_json = requests.get(endpoint_ventas_efectivo, json=datos)\n",
    "    print(f'Se obtuvieron las ventas en efectivo correctamente. \\nTotal de folios obtenidos: {len(ventas_json.json())}')\n",
    "except Exception as e:\n",
    "    print(f\"Error al obtener la información de las ventas en efectivo: {e}\")"
   ]
  },
  {
   "cell_type": "markdown",
   "metadata": {},
   "source": [
    "### Lista de Folios\n",
    "Un ejemplo de la salida de ventas_json es el siguiente:\n",
    "\n",
    "\n",
    "**[{\"folio\": 3328, \"total\": \"248.0000\"}, {\"folio\": 3330, \"total\": \"253.0000\"}]**\n",
    "\n",
    "\n",
    "En la proxima linea de codigo:\n",
    "\n",
    "\n",
    "Los folios serán guardados en una lista para poder iterar sobre ellos y poder hacer el mantenimiento de ventas."
   ]
  },
  {
   "cell_type": "code",
   "execution_count": null,
   "metadata": {},
   "outputs": [],
   "source": [
    "# obtener los folios de la venta\n",
    "folios_crudo = [folio[\"folio\"] for folio in ventas_json.json()]\n",
    "\n",
    "# Mezclar los folios\n",
    "random.shuffle(folios_crudo)"
   ]
  },
  {
   "cell_type": "markdown",
   "metadata": {},
   "source": [
    "## Mantenimiento de ventas\n",
    "**Nota:** En el siguiente bloque de código se hará la sustitución de los productos en cada una de las ventas, este proceso es automatico, recuerda que hasta este punto cuentas con todos los folios de la fecha ingresada, tienes una cantidad de efectivo inicial y un corte que sirve para parar el mantenimiento de las cuentas. Los productos de los folios serán sustituidos por los productos que estan en la lista.\n",
    "\n",
    "### Recuerda:\n",
    "- Tener respaldo de la base de datos.\n",
    "- Tener un reporte de corte de caja y un reporte de cuentas desgloze.\n",
    "- Hacer la sincronización.\n",
    "- Validar que los folios que solicitaron facturación ya esten completos."
   ]
  },
  {
   "cell_type": "code",
   "execution_count": null,
   "metadata": {},
   "outputs": [],
   "source": [
    "total_afectado = 0\n",
    "folios_afectados = []\n",
    "for folio in folios_crudo:\n",
    "    body_json ={\n",
    "        \"cantidad\": 1,\n",
    "        \"idproducto\": random.choice(productos), # Escoger un producto al azar (antes se mezclaron los productos)\n",
    "    }\n",
    "    api_mantenimiento = f'http://{datos[\"servidor\"]}:8000/mantenimiento/actualizar/{folio}/'\n",
    "    try:\n",
    "        # Se manda la petición a la API para actualizar la venta\n",
    "        response = requests.put(api_mantenimiento, json=body_json)\n",
    "        if response.status_code == 200:\n",
    "            # Cuenta de los productos que se actualizaron\n",
    "            folios_afectados.append(folio)\n",
    "            total_afectado += float(ventas_json.json()[folios_crudo.index(folio)][\"total\"])\n",
    "            if body_json[\"idproducto\"] == \"034003\":\n",
    "                print(f\"Se actualizó la venta con folio {folio} con el producto 'Café en grano 1/4'.\")\n",
    "                total_afectado -= 80\n",
    "            if body_json[\"idproducto\"] == \"042035\":\n",
    "                print(f\"Se actualizó la venta con folio {folio} con el producto 'Pan para llevar'.\")\n",
    "                total_afectado -= 40\n",
    "            # Parar si ya tenemos el 50% afectado\n",
    "            if total_afectado >= corte:\n",
    "                print(f\"Se ha llegado al corte del 50%.\")\n",
    "                break\n",
    "        else:\n",
    "            print(f\"No se pudo actualizar la venta con folio {folio}.\")\n",
    "    except Exception as e:\n",
    "        print(f\"No se pudo actualizar la venta con folio {folio}.\\nDetalles del error: {e}\")\n"
   ]
  },
  {
   "cell_type": "code",
   "execution_count": null,
   "metadata": {},
   "outputs": [],
   "source": [
    "api_desglose = f'http://{datos[\"servidor\"]}:8000/mantenimiento/cuentas/sustituidas'\n",
    "cuentas_desglose = requests.get(api_desglose, json=datos)"
   ]
  },
  {
   "cell_type": "code",
   "execution_count": null,
   "metadata": {},
   "outputs": [],
   "source": [
    "md(f'# Reporte final\\n\\n'\n",
    "   f'#### Ventas obtenidas: {len(ventas_json.json())} \\n\\n'\n",
    "   f'### Se afectó el 50% de las ventas en efectivo.\\n\\n'\n",
    "   f'#### Efectivo inicial: ${datos[\"efectivo_inicial\"]}\\n\\n'\n",
    "   f'#### Efectivo final: ${datos[\"efectivo_inicial\"] - total_afectado}\\n\\n'\n",
    "   f'#### Efectivo afectado: ${total_afectado}\\n\\n'\n",
    "   f'#### Folios afectados: \\n\\n{folios_afectados}\\n\\n'\n",
    "   f'## Cuentas desglose:\\n\\n'\n",
    "   f'{json.dumps(cuentas_desglose.json())}\\n\\n'\n",
    "   f'\\n\\n **DataBot** - {datos[\"fecha\"]}.'\n",
    "   )"
   ]
  },
  {
   "cell_type": "markdown",
   "metadata": {},
   "source": [
    "# Cuentas en efectivo facturas.\n",
    "Este modulo es especial para sacar los reportes de efectivo facturado."
   ]
  },
  {
   "cell_type": "code",
   "execution_count": null,
   "metadata": {},
   "outputs": [],
   "source": [
    "# Endpoint para obtener las ventas facturadas\n",
    "api_efectivo_facturado = f'http://{datos[\"servidor\"]}:8000/mantenimiento/cuentas/efectivo/facturado'\n",
    "# Obtener las ventas facturadas\n",
    "try:\n",
    "    ventas_facturadas = requests.get(api_efectivo_facturado, json=datos)\n",
    "    print(f'Se obtuvieron las ventas facturadas correctamente. \\nTotal de folios obtenidos: {len(ventas_facturadas.json())}')\n",
    "except Exception as e:\n",
    "    print(f\"Error al obtener la información de las ventas facturadas: {e}\")"
   ]
  },
  {
   "cell_type": "code",
   "execution_count": null,
   "metadata": {},
   "outputs": [],
   "source": [
    "# Crear una lista de folios facturados\n",
    "folios_facturados = [folio[\"folio\"] for folio in ventas_facturadas.json()]\n",
    "\n",
    "# Contador para el total facturado\n",
    "total_facturado = 0"
   ]
  },
  {
   "cell_type": "code",
   "execution_count": null,
   "metadata": {},
   "outputs": [],
   "source": [
    "# Algortimo para imprimir los folios facturados y el total de cada uno\n",
    "for folio in folios_facturados:\n",
    "    print(f'Folio {folio} - Total: ${ventas_facturadas.json()[folios_facturados.index(folio)][\"total\"]}')\n",
    "    total_facturado += float(ventas_facturadas.json()[folios_facturados.index(folio)][\"total\"])"
   ]
  },
  {
   "cell_type": "code",
   "execution_count": null,
   "metadata": {},
   "outputs": [],
   "source": [
    "print(f'Total facturado: ${total_facturado}')"
   ]
  }
 ],
 "metadata": {
  "kernelspec": {
   "display_name": "nexium",
   "language": "python",
   "name": "python3"
  },
  "language_info": {
   "codemirror_mode": {
    "name": "ipython",
    "version": 3
   },
   "file_extension": ".py",
   "mimetype": "text/x-python",
   "name": "python",
   "nbconvert_exporter": "python",
   "pygments_lexer": "ipython3",
   "version": "3.11.9"
  }
 },
 "nbformat": 4,
 "nbformat_minor": 2
}
