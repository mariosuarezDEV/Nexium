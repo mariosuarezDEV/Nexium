{
 "cells": [
  {
   "cell_type": "markdown",
   "metadata": {},
   "source": [
    "# Estadisticas y Mantenimiento Flor Catorce"
   ]
  },
  {
   "cell_type": "markdown",
   "metadata": {},
   "source": [
    "## Ajustes del NoteBook"
   ]
  },
  {
   "cell_type": "code",
   "execution_count": 26,
   "metadata": {},
   "outputs": [],
   "source": [
    "# Dependencias\n",
    "import requests\n",
    "import random\n",
    "from IPython.display import Markdown as md\n",
    "import json\n",
    "import pandas as pd\n",
    "import os"
   ]
  },
  {
   "cell_type": "code",
   "execution_count": 27,
   "metadata": {},
   "outputs": [],
   "source": [
    "# Servidores aptos para el sistema\n",
    "centro = \"26.61.16.123\"\n",
    "araucarias = \"26.217.212.35\"\n",
    "cedis = \"26.207.163.198\"\n",
    "pruebas = \"\""
   ]
  },
  {
   "cell_type": "code",
   "execution_count": 28,
   "metadata": {},
   "outputs": [],
   "source": [
    "datos ={\n",
    "    \"fecha\": \"2024-09-12\",\n",
    "    \"efectivo_inicial\": 24878.30,\n",
    "    \"servidor\": centro\n",
    "}"
   ]
  },
  {
   "cell_type": "code",
   "execution_count": 29,
   "metadata": {},
   "outputs": [],
   "source": [
    "# Limite para dar mantenimiento a las ventas\n",
    "corte = datos[\"efectivo_inicial\"] / 2"
   ]
  },
  {
   "cell_type": "code",
   "execution_count": 30,
   "metadata": {},
   "outputs": [],
   "source": [
    "# Productos para el mantenimiento\n",
    "productos = [\"034003\", \"042035\"]\n",
    "random.shuffle(productos) # Mezclar los productos"
   ]
  },
  {
   "cell_type": "code",
   "execution_count": 31,
   "metadata": {},
   "outputs": [],
   "source": [
    "# Petición a la API de ventas\n",
    "url_ventas = f\"http://{datos['servidor']}:8000/mantenimiento/ventas\"\n",
    "api_ventas = requests.get(url_ventas, json=datos).json() # Convertir la respuesta a JSON (diccionario)"
   ]
  },
  {
   "cell_type": "markdown",
   "metadata": {},
   "source": [
    "# Reportes de Folios"
   ]
  },
  {
   "cell_type": "code",
   "execution_count": 32,
   "metadata": {},
   "outputs": [],
   "source": [
    "# Carpeta para almacenar los datos\n",
    "os.mkdir(datos[\"fecha\"])"
   ]
  },
  {
   "cell_type": "code",
   "execution_count": 33,
   "metadata": {},
   "outputs": [],
   "source": [
    "# Reporte de las ventas\n",
    "ventas = pd.DataFrame(api_ventas)\n",
    "ventas.to_csv(f'./{datos[\"fecha\"]}/Ventas_{datos[\"fecha\"]}.csv', index=False)\n",
    "\n",
    "ventas.loc[:,\"efectivo\"] = pd.to_numeric(ventas[\"efectivo\"])\n",
    "ventas.loc[:,\"tarjeta\"] = pd.to_numeric(ventas[\"tarjeta\"])"
   ]
  },
  {
   "cell_type": "code",
   "execution_count": 34,
   "metadata": {},
   "outputs": [],
   "source": [
    "# Reporte de las ventas facturadas (general)\n",
    "ventas_facturadas = ventas[ventas[\"facturado\"] == True]\n",
    "ventas_facturadas.to_csv(f'./{datos[\"fecha\"]}/Ventas_facturadas_{datos[\"fecha\"]}.csv', index=False)"
   ]
  },
  {
   "cell_type": "code",
   "execution_count": 35,
   "metadata": {},
   "outputs": [],
   "source": [
    "# Reporte de las ventas no facturadas (general)\n",
    "ventas_no_facturadas = ventas[ventas[\"facturado\"] == False]\n",
    "ventas_no_facturadas.to_csv(f'./{datos[\"fecha\"]}/Ventas_no_facturadas_{datos[\"fecha\"]}.csv', index=False)"
   ]
  },
  {
   "cell_type": "code",
   "execution_count": 36,
   "metadata": {},
   "outputs": [],
   "source": [
    "# Reporte ventas facturadas con efectivo\n",
    "ventas_facturadas_efectivo = ventas_facturadas[(ventas_facturadas[\"efectivo\"] > 0) & (ventas_facturadas[\"tarjeta\"] == 0)]\n",
    "ventas_facturadas_efectivo.to_csv(f'./{datos[\"fecha\"]}/Ventas_facturadas_efectivo_{datos[\"fecha\"]}.csv', index=False)"
   ]
  },
  {
   "cell_type": "code",
   "execution_count": 37,
   "metadata": {},
   "outputs": [],
   "source": [
    "# Reporte ventas facturadas con tarjeta\n",
    "ventas_facturadas_tarjeta = ventas_facturadas[(ventas_facturadas[\"tarjeta\"] > 0) & (ventas_facturadas[\"efectivo\"] == 0)]\n",
    "ventas_facturadas_tarjeta.to_csv(f'./{datos[\"fecha\"]}/Ventas_facturadas_tarjeta_{datos[\"fecha\"]}.csv', index=False)"
   ]
  },
  {
   "cell_type": "code",
   "execution_count": 38,
   "metadata": {},
   "outputs": [],
   "source": [
    "# Reporte ventas no facturadas con efectivo\n",
    "ventas_no_facturadas_efectivo = ventas_no_facturadas[(ventas_no_facturadas[\"efectivo\"] > 0) & (ventas_no_facturadas[\"tarjeta\"] == 0)]\n",
    "ventas_no_facturadas_efectivo.to_csv(f'./{datos[\"fecha\"]}/Ventas_no_facturadas_efectivo_{datos[\"fecha\"]}.csv', index=False)"
   ]
  },
  {
   "cell_type": "code",
   "execution_count": 39,
   "metadata": {},
   "outputs": [],
   "source": [
    "# Reporte ventas no facturadas con tarjeta\n",
    "ventas_no_facturadas_tarjeta = ventas_no_facturadas[(ventas_no_facturadas[\"tarjeta\"] > 0) & (ventas_no_facturadas[\"efectivo\"] == 0)]\n",
    "ventas_no_facturadas_tarjeta.to_csv(f'./{datos[\"fecha\"]}/Ventas_no_facturadas_tarjeta_{datos[\"fecha\"]}.csv', index=False)"
   ]
  },
  {
   "cell_type": "code",
   "execution_count": 40,
   "metadata": {},
   "outputs": [],
   "source": [
    "# Otras facturas (efeectivo y tarjeta)\n",
    "otras_facturas = ventas[(ventas[\"efectivo\"] > 0) & (ventas[\"tarjeta\"] > 0)]\n",
    "otras_facturas.to_csv(f'./{datos[\"fecha\"]}/Otras_facturas_{datos[\"fecha\"]}.csv', index=False)"
   ]
  },
  {
   "cell_type": "code",
   "execution_count": 41,
   "metadata": {},
   "outputs": [],
   "source": [
    "# Ventas tarjeta y efectivo no facturadas\n",
    "ventas_no_facturadas_mixtas = ventas_no_facturadas[(ventas_no_facturadas[\"efectivo\"] > 0) & (ventas_no_facturadas[\"tarjeta\"] > 0)]\n",
    "ventas_no_facturadas_mixtas.to_csv(f'./{datos[\"fecha\"]}/Otras_no_facturadas_{datos[\"fecha\"]}.csv', index=False)"
   ]
  },
  {
   "cell_type": "code",
   "execution_count": 42,
   "metadata": {},
   "outputs": [],
   "source": [
    "# Reporte datos encontrados\n",
    "folios = ventas[\"folio\"].unique()\n",
    "folios = len(folios)\n",
    "\n",
    "folios_facturados = ventas_facturadas[\"folio\"].unique()\n",
    "folios_facturados = len(folios_facturados)\n",
    "\n",
    "folios_no_facturados = ventas_no_facturadas[\"folio\"].unique()\n",
    "folios_no_facturados = len(folios_no_facturados)\n",
    "\n",
    "folios_facturados_efectivo = ventas_facturadas_efectivo[\"folio\"].unique()\n",
    "folios_facturados_efectivo = len(folios_facturados_efectivo)\n",
    "\n",
    "folios_facturados_tarjeta = ventas_facturadas_tarjeta[\"folio\"].unique()\n",
    "folios_facturados_tarjeta = len(folios_facturados_tarjeta)\n",
    "\n",
    "folios_no_facturados_efectivo = ventas_no_facturadas_efectivo[\"folio\"].unique()\n",
    "folios_no_facturados_efectivo = len(folios_no_facturados_efectivo)\n",
    "\n",
    "folios_no_facturados_tarjeta = ventas_no_facturadas_tarjeta[\"folio\"].unique()\n",
    "folios_no_facturados_tarjeta = len(folios_no_facturados_tarjeta)\n",
    "\n",
    "folios_facturados_mixtos = otras_facturas[\"folio\"].unique()\n",
    "folios_facturados_mixtos = len(folios_facturados_mixtos)\n",
    "\n",
    "folios_no_facturados_mixtos = ventas_no_facturadas_mixtas[\"folio\"].unique()\n",
    "folios_no_facturados_mixtos = len(folios_no_facturados_mixtos)"
   ]
  },
  {
   "cell_type": "code",
   "execution_count": 43,
   "metadata": {},
   "outputs": [],
   "source": [
    "# Diccionario con los datos filtrados\n",
    "filtrado_ventas ={\n",
    "    \"folios\": folios,\n",
    "    \"folios facturados\": folios_facturados,\n",
    "    \"folios no facturados\": folios_no_facturados,\n",
    "    \"folios facturados efectivo\": folios_facturados_efectivo,\n",
    "    \"folios facturados tarjeta\": folios_facturados_tarjeta,\n",
    "    \"folios no facturados efectivo\": folios_no_facturados_efectivo,\n",
    "    \"folios no facturados tarjeta\": folios_no_facturados_tarjeta,\n",
    "    \"Otros facturados\": folios_facturados_mixtos,\n",
    "    \"Otros no facturados\": folios_no_facturados_mixtos,\n",
    "}"
   ]
  },
  {
   "cell_type": "code",
   "execution_count": 44,
   "metadata": {},
   "outputs": [],
   "source": [
    "# Reporte de estadistica\n",
    "estadistica = pd.DataFrame(filtrado_ventas, index=[0])\n",
    "estadistica.to_csv(f'./{datos[\"fecha\"]}/Estadistica_{datos[\"fecha\"]}.csv', index=False)"
   ]
  },
  {
   "cell_type": "markdown",
   "metadata": {},
   "source": [
    "# Mantenimiento de ventas"
   ]
  },
  {
   "cell_type": "code",
   "execution_count": 54,
   "metadata": {},
   "outputs": [],
   "source": [
    "# Obtener los folios y sus totales mayores a 120 no facturados\n",
    "df = mantenimiento_ventas = pd.read_csv(f'./{datos[\"fecha\"]}/Ventas_no_facturadas_{datos[\"fecha\"]}.csv')\n",
    "df = df[[\"folio\",\"total\"]]\n",
    "\n",
    "# Convertir a diccionario\n",
    "dic_ventas = df.to_dict(orient=\"records\")\n"
   ]
  }
 ],
 "metadata": {
  "kernelspec": {
   "display_name": "nexium",
   "language": "python",
   "name": "python3"
  },
  "language_info": {
   "codemirror_mode": {
    "name": "ipython",
    "version": 3
   },
   "file_extension": ".py",
   "mimetype": "text/x-python",
   "name": "python",
   "nbconvert_exporter": "python",
   "pygments_lexer": "ipython3",
   "version": "3.11.10"
  }
 },
 "nbformat": 4,
 "nbformat_minor": 2
}
