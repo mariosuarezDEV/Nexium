{
 "cells": [
  {
   "cell_type": "markdown",
   "metadata": {},
   "source": [
    "# Uso de pandas"
   ]
  },
  {
   "cell_type": "code",
   "execution_count": 1,
   "metadata": {},
   "outputs": [],
   "source": [
    "import pandas as pd\n",
    "import numpy as np"
   ]
  },
  {
   "cell_type": "markdown",
   "metadata": {},
   "source": [
    "## Funciones"
   ]
  },
  {
   "cell_type": "markdown",
   "metadata": {},
   "source": [
    "df = dataframe (marco de datos)\n",
    "read_cvs(path)\n",
    "\n",
    "Podemos leer archivos cvs - xlsx\n",
    "\n",
    "Un marco de datos o trabajo se compone de columnas (acostados) y filas (parados)\n",
    "\n",
    "Podemos crear un dataframe apartir de un diccionario\n"
   ]
  },
  {
   "cell_type": "code",
   "execution_count": 5,
   "metadata": {},
   "outputs": [],
   "source": [
    "diccionario = {\n",
    "    \"lenguajes\": [\"python\", \"java\", \"c++\"],\n",
    "    \"nivel_conocimiento\": [\"básico\", \"intermedio\", \"avanzado\"],\n",
    "    \"años_experiencia\": [1, 3, 5]\n",
    "}"
   ]
  },
  {
   "cell_type": "markdown",
   "metadata": {},
   "source": [
    "Las claves son las columnas y los valores las filas"
   ]
  },
  {
   "cell_type": "code",
   "execution_count": null,
   "metadata": {},
   "outputs": [],
   "source": [
    "# Crear un DataFrame a partir de un diccionario\n",
    "df = pd.DataFrame(diccionario)\n",
    "print(df)"
   ]
  },
  {
   "cell_type": "code",
   "execution_count": null,
   "metadata": {},
   "outputs": [],
   "source": [
    "# Podemos obtener información de las columnas\n",
    "get_lenguajes = df[\"lenguajes\"]\n",
    "print(get_lenguajes)"
   ]
  },
  {
   "cell_type": "markdown",
   "metadata": {},
   "source": [
    "Para acceder podemos usar el metodo iloc que recibe como parametros los indices\n"
   ]
  },
  {
   "cell_type": "code",
   "execution_count": null,
   "metadata": {},
   "outputs": [],
   "source": [
    "primer_elemento_columna_fila = df.iloc[0,0] #el primer parametro es la fila y el segundo la columna\n",
    "print(primer_elemento_columna_fila)"
   ]
  },
  {
   "cell_type": "markdown",
   "metadata": {},
   "source": [
    "Tambien tenemos el metodo loc que escribimos la columna deseada y la fila la seleccionamos con el indice."
   ]
  },
  {
   "cell_type": "code",
   "execution_count": null,
   "metadata": {},
   "outputs": [],
   "source": [
    "segundo_elemento_columna_fila = df.loc[1,\"nivel_conocimiento\"]\n",
    "print(segundo_elemento_columna_fila)"
   ]
  },
  {
   "cell_type": "markdown",
   "metadata": {},
   "source": [
    "# Trabar y Guardar con Pandas"
   ]
  },
  {
   "cell_type": "markdown",
   "metadata": {},
   "source": [
    "si tenemos una columna seleccionada, podemos aplicar el metodo **unique** para obtener todos los valores unicos (que se repiten dos o mas veces)"
   ]
  },
  {
   "cell_type": "markdown",
   "metadata": {},
   "source": [
    "Podemos guardar un marco de trabajo usando el metodo: **to_cvs(\"path.cvs)**"
   ]
  },
  {
   "cell_type": "markdown",
   "metadata": {},
   "source": [
    "## Practica"
   ]
  },
  {
   "cell_type": "code",
   "execution_count": 4,
   "metadata": {},
   "outputs": [],
   "source": [
    "data = {\n",
    "    \"folios\": [1, 2, 3, 4, 5],\n",
    "    \"total\": [100, 200, 300, 400, 500],\n",
    "    \"factuado\": [True, False, True, False, True]\n",
    "}"
   ]
  },
  {
   "cell_type": "code",
   "execution_count": 5,
   "metadata": {},
   "outputs": [],
   "source": [
    "# Guardar los datos en un DataFrame\n",
    "df = pd.DataFrame(data)"
   ]
  },
  {
   "cell_type": "code",
   "execution_count": 6,
   "metadata": {},
   "outputs": [],
   "source": [
    "# Generar el archivo CSV\n",
    "df.to_csv(\"data.csv\")"
   ]
  },
  {
   "cell_type": "code",
   "execution_count": null,
   "metadata": {},
   "outputs": [],
   "source": [
    "# Obtener el total de la columna \"total\"\n",
    "total = df[\"total\"].sum()\n",
    "print(df[\"total\"])\n",
    "print(total)"
   ]
  },
  {
   "cell_type": "code",
   "execution_count": null,
   "metadata": {},
   "outputs": [],
   "source": [
    "# Obtener solo los folios que no estan facturados\n",
    "no_facturados = df[df[\"factuado\"] == False]\n",
    "print(no_facturados)"
   ]
  },
  {
   "cell_type": "code",
   "execution_count": null,
   "metadata": {},
   "outputs": [],
   "source": [
    "# Obtener los folios facturados\n",
    "facturados = df[df[\"factuado\"] == True]\n",
    "print(facturados)"
   ]
  },
  {
   "cell_type": "code",
   "execution_count": null,
   "metadata": {},
   "outputs": [],
   "source": [
    "# Guardar los datos en un archivo CSV (facturados)\n",
    "facturado = df[df[\"factuado\"] == True]\n",
    "# Quitar la columna \"facturado\"\n",
    "facturado = facturado[[\"folios\", \"total\"]]\n",
    "print(facturado)\n",
    "facturado.to_csv(\"Formato_Facturado.csv\")"
   ]
  },
  {
   "cell_type": "markdown",
   "metadata": {},
   "source": [
    "# Trabajar con NumPy\n"
   ]
  },
  {
   "cell_type": "code",
   "execution_count": 11,
   "metadata": {},
   "outputs": [
    {
     "name": "stdout",
     "output_type": "stream",
     "text": [
      "int64\n",
      "5\n",
      "1\n",
      "[1 2 3 4 5]\n",
      "[10  2  3  4  5]\n",
      "[2 3 4]\n",
      "[20 30 40]\n"
     ]
    }
   ],
   "source": [
    "import numpy as np\n",
    "\n",
    "# Crear un array en numpy\n",
    "a = np.array([1, 2, 3, 4, 5])\n",
    "\n",
    "# Ver el tipo de dato\n",
    "type(a)\n",
    "print(a.dtype) # <- Esto obtiene el tipo de dato de los elementos del array\n",
    "\n",
    "# Numero de elementos en la matriz\n",
    "print(a.size)\n",
    "\n",
    "# Numero de dimensiones (listas)\n",
    "print(a.ndim)\n",
    "\n",
    "# Slicing\n",
    "\n",
    "# Cambiar el valor de un elemento\n",
    "b = np.array([1, 2, 3, 4, 5])\n",
    "print(b)\n",
    "b[0] = 10\n",
    "print(b)\n",
    "\n",
    "c = b[1:4]\n",
    "print(c)\n",
    "\n",
    "c[0:3]= 20,30,40\n",
    "print(c)\n",
    "\n"
   ]
  },
  {
   "cell_type": "markdown",
   "metadata": {},
   "source": [
    "## Adición de vectores\n",
    "Es una combinacion lineal que es el resultado de sumar 2 vectores\n",
    "\n",
    "vector = v1+v2\n",
    "\n",
    "**Multiplicacion**\n",
    "vector = v1*v2\n",
    "\n",
    "**Escalado (raiz)**\n",
    "vector = 2*v1\n",
    "\n",
    "**Producto punto (dot product)**\n",
    "Se multiplican los primeros componentes de los vectores y luego sumamos la multiplicacion del segundo\n",
    "El resultado repesenta que tan **similares** son los vectores\n",
    "\n",
    "resultado = np.dot(v1,v2)\n"
   ]
  },
  {
   "cell_type": "markdown",
   "metadata": {},
   "source": [
    "## Funciones globales\n",
    "\n",
    "### Promedio de los vectores\n",
    "promedio = vector.mean()\n",
    "\n",
    "### Valor maximo\n",
    "maximo = vector.max()\n",
    "\n",
    "### Valor de pi\n",
    "np.pi\n",
    "\n",
    "### Funciones sin\n",
    "y = np.sin(vector)\n",
    "\n",
    "\n"
   ]
  },
  {
   "cell_type": "markdown",
   "metadata": {},
   "source": [
    "# Array attributes\n",
    "print(arr_2d.ndim)  # ndim : Represents the number of dimensions or \"rank\" of the array.\n",
    "# output : 2\n",
    "print(arr_2d.shape)  # shape : Returns a tuple indicating the number of rows and columns in the array.\n",
    "# Output : (3, 3)\n",
    "print(arr_2d.size) # size: Provides the total number of elements in the array.\n",
    "# Output : 9"
   ]
  }
 ],
 "metadata": {
  "kernelspec": {
   "display_name": "nexium",
   "language": "python",
   "name": "python3"
  },
  "language_info": {
   "codemirror_mode": {
    "name": "ipython",
    "version": 3
   },
   "file_extension": ".py",
   "mimetype": "text/x-python",
   "name": "python",
   "nbconvert_exporter": "python",
   "pygments_lexer": "ipython3",
   "version": "3.11.10"
  }
 },
 "nbformat": 4,
 "nbformat_minor": 2
}
