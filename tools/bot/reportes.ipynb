{
 "cells": [
  {
   "cell_type": "code",
   "execution_count": 34,
   "metadata": {},
   "outputs": [
    {
     "name": "stdout",
     "output_type": "stream",
     "text": [
      "Requirement already satisfied: anyio==4.6.0 in c:\\users\\lmcer\\anaconda3\\envs\\nexium\\lib\\site-packages (from -r ./../requirement.txt (line 1)) (4.6.0)\n",
      "Requirement already satisfied: appnope==0.1.4 in c:\\users\\lmcer\\anaconda3\\envs\\nexium\\lib\\site-packages (from -r ./../requirement.txt (line 2)) (0.1.4)\n",
      "Requirement already satisfied: argon2-cffi==23.1.0 in c:\\users\\lmcer\\anaconda3\\envs\\nexium\\lib\\site-packages (from -r ./../requirement.txt (line 3)) (23.1.0)\n",
      "Requirement already satisfied: argon2-cffi-bindings==21.2.0 in c:\\users\\lmcer\\anaconda3\\envs\\nexium\\lib\\site-packages (from -r ./../requirement.txt (line 4)) (21.2.0)\n",
      "Requirement already satisfied: arrow==1.3.0 in c:\\users\\lmcer\\anaconda3\\envs\\nexium\\lib\\site-packages (from -r ./../requirement.txt (line 5)) (1.3.0)\n",
      "Requirement already satisfied: asgiref==3.8.1 in c:\\users\\lmcer\\anaconda3\\envs\\nexium\\lib\\site-packages (from -r ./../requirement.txt (line 6)) (3.8.1)\n",
      "Requirement already satisfied: asttokens==2.4.1 in c:\\users\\lmcer\\anaconda3\\envs\\nexium\\lib\\site-packages (from -r ./../requirement.txt (line 7)) (2.4.1)\n",
      "Requirement already satisfied: async-lru==2.0.4 in c:\\users\\lmcer\\anaconda3\\envs\\nexium\\lib\\site-packages (from -r ./../requirement.txt (line 8)) (2.0.4)\n",
      "Requirement already satisfied: attrs==24.2.0 in c:\\users\\lmcer\\anaconda3\\envs\\nexium\\lib\\site-packages (from -r ./../requirement.txt (line 9)) (24.2.0)\n",
      "Requirement already satisfied: babel==2.16.0 in c:\\users\\lmcer\\anaconda3\\envs\\nexium\\lib\\site-packages (from -r ./../requirement.txt (line 10)) (2.16.0)\n",
      "Requirement already satisfied: beautifulsoup4==4.12.3 in c:\\users\\lmcer\\anaconda3\\envs\\nexium\\lib\\site-packages (from -r ./../requirement.txt (line 11)) (4.12.3)\n",
      "Requirement already satisfied: bleach==6.1.0 in c:\\users\\lmcer\\anaconda3\\envs\\nexium\\lib\\site-packages (from -r ./../requirement.txt (line 12)) (6.1.0)\n",
      "Requirement already satisfied: certifi==2024.8.30 in c:\\users\\lmcer\\anaconda3\\envs\\nexium\\lib\\site-packages (from -r ./../requirement.txt (line 13)) (2024.8.30)\n",
      "Requirement already satisfied: cffi==1.17.1 in c:\\users\\lmcer\\anaconda3\\envs\\nexium\\lib\\site-packages (from -r ./../requirement.txt (line 14)) (1.17.1)\n",
      "Requirement already satisfied: charset-normalizer==3.3.2 in c:\\users\\lmcer\\anaconda3\\envs\\nexium\\lib\\site-packages (from -r ./../requirement.txt (line 15)) (3.3.2)\n",
      "Requirement already satisfied: comm==0.2.2 in c:\\users\\lmcer\\anaconda3\\envs\\nexium\\lib\\site-packages (from -r ./../requirement.txt (line 16)) (0.2.2)\n",
      "Requirement already satisfied: debugpy==1.8.6 in c:\\users\\lmcer\\anaconda3\\envs\\nexium\\lib\\site-packages (from -r ./../requirement.txt (line 17)) (1.8.6)\n",
      "Requirement already satisfied: decorator==5.1.1 in c:\\users\\lmcer\\anaconda3\\envs\\nexium\\lib\\site-packages (from -r ./../requirement.txt (line 18)) (5.1.1)\n",
      "Requirement already satisfied: defusedxml==0.7.1 in c:\\users\\lmcer\\anaconda3\\envs\\nexium\\lib\\site-packages (from -r ./../requirement.txt (line 19)) (0.7.1)\n",
      "Requirement already satisfied: Django==5.0.9 in c:\\users\\lmcer\\anaconda3\\envs\\nexium\\lib\\site-packages (from -r ./../requirement.txt (line 20)) (5.0.9)\n",
      "Requirement already satisfied: djangorestframework==3.15.2 in c:\\users\\lmcer\\anaconda3\\envs\\nexium\\lib\\site-packages (from -r ./../requirement.txt (line 21)) (3.15.2)\n",
      "Requirement already satisfied: executing==2.1.0 in c:\\users\\lmcer\\anaconda3\\envs\\nexium\\lib\\site-packages (from -r ./../requirement.txt (line 22)) (2.1.0)\n",
      "Requirement already satisfied: fastjsonschema==2.20.0 in c:\\users\\lmcer\\anaconda3\\envs\\nexium\\lib\\site-packages (from -r ./../requirement.txt (line 23)) (2.20.0)\n",
      "Requirement already satisfied: fqdn==1.5.1 in c:\\users\\lmcer\\anaconda3\\envs\\nexium\\lib\\site-packages (from -r ./../requirement.txt (line 24)) (1.5.1)\n",
      "Requirement already satisfied: h11==0.14.0 in c:\\users\\lmcer\\anaconda3\\envs\\nexium\\lib\\site-packages (from -r ./../requirement.txt (line 25)) (0.14.0)\n",
      "Requirement already satisfied: httpcore==1.0.5 in c:\\users\\lmcer\\anaconda3\\envs\\nexium\\lib\\site-packages (from -r ./../requirement.txt (line 26)) (1.0.5)\n",
      "Requirement already satisfied: httpx==0.27.2 in c:\\users\\lmcer\\anaconda3\\envs\\nexium\\lib\\site-packages (from -r ./../requirement.txt (line 27)) (0.27.2)\n",
      "Requirement already satisfied: idna==3.10 in c:\\users\\lmcer\\anaconda3\\envs\\nexium\\lib\\site-packages (from -r ./../requirement.txt (line 28)) (3.10)\n",
      "Requirement already satisfied: ipykernel==6.29.5 in c:\\users\\lmcer\\anaconda3\\envs\\nexium\\lib\\site-packages (from -r ./../requirement.txt (line 29)) (6.29.5)\n",
      "Requirement already satisfied: ipython==8.27.0 in c:\\users\\lmcer\\anaconda3\\envs\\nexium\\lib\\site-packages (from -r ./../requirement.txt (line 30)) (8.27.0)\n",
      "Requirement already satisfied: isoduration==20.11.0 in c:\\users\\lmcer\\anaconda3\\envs\\nexium\\lib\\site-packages (from -r ./../requirement.txt (line 31)) (20.11.0)\n",
      "Requirement already satisfied: jedi==0.19.1 in c:\\users\\lmcer\\anaconda3\\envs\\nexium\\lib\\site-packages (from -r ./../requirement.txt (line 32)) (0.19.1)\n",
      "Requirement already satisfied: Jinja2==3.1.4 in c:\\users\\lmcer\\anaconda3\\envs\\nexium\\lib\\site-packages (from -r ./../requirement.txt (line 33)) (3.1.4)\n",
      "Requirement already satisfied: json5==0.9.25 in c:\\users\\lmcer\\anaconda3\\envs\\nexium\\lib\\site-packages (from -r ./../requirement.txt (line 34)) (0.9.25)\n",
      "Requirement already satisfied: jsonpointer==3.0.0 in c:\\users\\lmcer\\anaconda3\\envs\\nexium\\lib\\site-packages (from -r ./../requirement.txt (line 35)) (3.0.0)\n",
      "Requirement already satisfied: jsonschema==4.23.0 in c:\\users\\lmcer\\anaconda3\\envs\\nexium\\lib\\site-packages (from -r ./../requirement.txt (line 36)) (4.23.0)\n",
      "Requirement already satisfied: jsonschema-specifications==2023.12.1 in c:\\users\\lmcer\\anaconda3\\envs\\nexium\\lib\\site-packages (from -r ./../requirement.txt (line 37)) (2023.12.1)\n",
      "Requirement already satisfied: jupyter-events==0.10.0 in c:\\users\\lmcer\\anaconda3\\envs\\nexium\\lib\\site-packages (from -r ./../requirement.txt (line 38)) (0.10.0)\n",
      "Requirement already satisfied: jupyter-lsp==2.2.5 in c:\\users\\lmcer\\anaconda3\\envs\\nexium\\lib\\site-packages (from -r ./../requirement.txt (line 39)) (2.2.5)\n",
      "Requirement already satisfied: jupyter_client==8.6.3 in c:\\users\\lmcer\\anaconda3\\envs\\nexium\\lib\\site-packages (from -r ./../requirement.txt (line 40)) (8.6.3)\n",
      "Requirement already satisfied: jupyter_core==5.7.2 in c:\\users\\lmcer\\anaconda3\\envs\\nexium\\lib\\site-packages (from -r ./../requirement.txt (line 41)) (5.7.2)\n",
      "Requirement already satisfied: jupyter_server==2.14.2 in c:\\users\\lmcer\\anaconda3\\envs\\nexium\\lib\\site-packages (from -r ./../requirement.txt (line 42)) (2.14.2)\n",
      "Requirement already satisfied: jupyter_server_terminals==0.5.3 in c:\\users\\lmcer\\anaconda3\\envs\\nexium\\lib\\site-packages (from -r ./../requirement.txt (line 43)) (0.5.3)\n",
      "Requirement already satisfied: jupyterlab==4.2.5 in c:\\users\\lmcer\\anaconda3\\envs\\nexium\\lib\\site-packages (from -r ./../requirement.txt (line 44)) (4.2.5)\n",
      "Requirement already satisfied: jupyterlab_pygments==0.3.0 in c:\\users\\lmcer\\anaconda3\\envs\\nexium\\lib\\site-packages (from -r ./../requirement.txt (line 45)) (0.3.0)\n",
      "Requirement already satisfied: jupyterlab_server==2.27.3 in c:\\users\\lmcer\\anaconda3\\envs\\nexium\\lib\\site-packages (from -r ./../requirement.txt (line 46)) (2.27.3)\n",
      "Requirement already satisfied: MarkupSafe==2.1.5 in c:\\users\\lmcer\\anaconda3\\envs\\nexium\\lib\\site-packages (from -r ./../requirement.txt (line 47)) (2.1.5)\n",
      "Requirement already satisfied: matplotlib-inline==0.1.7 in c:\\users\\lmcer\\anaconda3\\envs\\nexium\\lib\\site-packages (from -r ./../requirement.txt (line 48)) (0.1.7)\n",
      "Requirement already satisfied: mistune==3.0.2 in c:\\users\\lmcer\\anaconda3\\envs\\nexium\\lib\\site-packages (from -r ./../requirement.txt (line 49)) (3.0.2)\n",
      "Requirement already satisfied: mssql-django==1.5 in c:\\users\\lmcer\\anaconda3\\envs\\nexium\\lib\\site-packages (from -r ./../requirement.txt (line 50)) (1.5)\n",
      "Requirement already satisfied: nbclient==0.10.0 in c:\\users\\lmcer\\anaconda3\\envs\\nexium\\lib\\site-packages (from -r ./../requirement.txt (line 51)) (0.10.0)\n",
      "Requirement already satisfied: nbconvert==7.16.4 in c:\\users\\lmcer\\anaconda3\\envs\\nexium\\lib\\site-packages (from -r ./../requirement.txt (line 52)) (7.16.4)\n",
      "Requirement already satisfied: nbformat==5.10.4 in c:\\users\\lmcer\\anaconda3\\envs\\nexium\\lib\\site-packages (from -r ./../requirement.txt (line 53)) (5.10.4)\n",
      "Requirement already satisfied: nest-asyncio==1.6.0 in c:\\users\\lmcer\\anaconda3\\envs\\nexium\\lib\\site-packages (from -r ./../requirement.txt (line 54)) (1.6.0)\n",
      "Requirement already satisfied: notebook==7.2.2 in c:\\users\\lmcer\\anaconda3\\envs\\nexium\\lib\\site-packages (from -r ./../requirement.txt (line 55)) (7.2.2)\n",
      "Requirement already satisfied: notebook_shim==0.2.4 in c:\\users\\lmcer\\anaconda3\\envs\\nexium\\lib\\site-packages (from -r ./../requirement.txt (line 56)) (0.2.4)\n",
      "Requirement already satisfied: overrides==7.7.0 in c:\\users\\lmcer\\anaconda3\\envs\\nexium\\lib\\site-packages (from -r ./../requirement.txt (line 57)) (7.7.0)\n",
      "Requirement already satisfied: packaging==24.1 in c:\\users\\lmcer\\anaconda3\\envs\\nexium\\lib\\site-packages (from -r ./../requirement.txt (line 58)) (24.1)\n",
      "Requirement already satisfied: pandocfilters==1.5.1 in c:\\users\\lmcer\\anaconda3\\envs\\nexium\\lib\\site-packages (from -r ./../requirement.txt (line 59)) (1.5.1)\n",
      "Requirement already satisfied: parso==0.8.4 in c:\\users\\lmcer\\anaconda3\\envs\\nexium\\lib\\site-packages (from -r ./../requirement.txt (line 60)) (0.8.4)\n",
      "Requirement already satisfied: pexpect==4.9.0 in c:\\users\\lmcer\\anaconda3\\envs\\nexium\\lib\\site-packages (from -r ./../requirement.txt (line 61)) (4.9.0)\n",
      "Requirement already satisfied: platformdirs==4.3.6 in c:\\users\\lmcer\\anaconda3\\envs\\nexium\\lib\\site-packages (from -r ./../requirement.txt (line 62)) (4.3.6)\n",
      "Requirement already satisfied: prometheus_client==0.21.0 in c:\\users\\lmcer\\anaconda3\\envs\\nexium\\lib\\site-packages (from -r ./../requirement.txt (line 63)) (0.21.0)\n",
      "Requirement already satisfied: prompt_toolkit==3.0.48 in c:\\users\\lmcer\\anaconda3\\envs\\nexium\\lib\\site-packages (from -r ./../requirement.txt (line 64)) (3.0.48)\n",
      "Requirement already satisfied: psutil==6.0.0 in c:\\users\\lmcer\\anaconda3\\envs\\nexium\\lib\\site-packages (from -r ./../requirement.txt (line 65)) (6.0.0)\n",
      "Requirement already satisfied: ptyprocess==0.7.0 in c:\\users\\lmcer\\anaconda3\\envs\\nexium\\lib\\site-packages (from -r ./../requirement.txt (line 66)) (0.7.0)\n",
      "Requirement already satisfied: pure_eval==0.2.3 in c:\\users\\lmcer\\anaconda3\\envs\\nexium\\lib\\site-packages (from -r ./../requirement.txt (line 67)) (0.2.3)\n",
      "Requirement already satisfied: pycparser==2.22 in c:\\users\\lmcer\\anaconda3\\envs\\nexium\\lib\\site-packages (from -r ./../requirement.txt (line 68)) (2.22)\n",
      "Requirement already satisfied: Pygments==2.18.0 in c:\\users\\lmcer\\anaconda3\\envs\\nexium\\lib\\site-packages (from -r ./../requirement.txt (line 69)) (2.18.0)\n",
      "Requirement already satisfied: pyodbc==5.1.0 in c:\\users\\lmcer\\anaconda3\\envs\\nexium\\lib\\site-packages (from -r ./../requirement.txt (line 70)) (5.1.0)\n",
      "Requirement already satisfied: python-dateutil==2.9.0.post0 in c:\\users\\lmcer\\anaconda3\\envs\\nexium\\lib\\site-packages (from -r ./../requirement.txt (line 71)) (2.9.0.post0)\n",
      "Requirement already satisfied: python-json-logger==2.0.7 in c:\\users\\lmcer\\anaconda3\\envs\\nexium\\lib\\site-packages (from -r ./../requirement.txt (line 72)) (2.0.7)\n",
      "Requirement already satisfied: pytz==2024.2 in c:\\users\\lmcer\\anaconda3\\envs\\nexium\\lib\\site-packages (from -r ./../requirement.txt (line 73)) (2024.2)\n",
      "Requirement already satisfied: PyYAML==6.0.2 in c:\\users\\lmcer\\anaconda3\\envs\\nexium\\lib\\site-packages (from -r ./../requirement.txt (line 74)) (6.0.2)\n",
      "Requirement already satisfied: pyzmq==26.2.0 in c:\\users\\lmcer\\anaconda3\\envs\\nexium\\lib\\site-packages (from -r ./../requirement.txt (line 75)) (26.2.0)\n",
      "Requirement already satisfied: referencing==0.35.1 in c:\\users\\lmcer\\anaconda3\\envs\\nexium\\lib\\site-packages (from -r ./../requirement.txt (line 76)) (0.35.1)\n",
      "Requirement already satisfied: requests==2.32.3 in c:\\users\\lmcer\\anaconda3\\envs\\nexium\\lib\\site-packages (from -r ./../requirement.txt (line 77)) (2.32.3)\n",
      "Requirement already satisfied: rfc3339-validator==0.1.4 in c:\\users\\lmcer\\anaconda3\\envs\\nexium\\lib\\site-packages (from -r ./../requirement.txt (line 78)) (0.1.4)\n",
      "Requirement already satisfied: rfc3986-validator==0.1.1 in c:\\users\\lmcer\\anaconda3\\envs\\nexium\\lib\\site-packages (from -r ./../requirement.txt (line 79)) (0.1.1)\n",
      "Requirement already satisfied: rpds-py==0.20.0 in c:\\users\\lmcer\\anaconda3\\envs\\nexium\\lib\\site-packages (from -r ./../requirement.txt (line 80)) (0.20.0)\n",
      "Requirement already satisfied: Send2Trash==1.8.3 in c:\\users\\lmcer\\anaconda3\\envs\\nexium\\lib\\site-packages (from -r ./../requirement.txt (line 81)) (1.8.3)\n",
      "Requirement already satisfied: six==1.16.0 in c:\\users\\lmcer\\anaconda3\\envs\\nexium\\lib\\site-packages (from -r ./../requirement.txt (line 82)) (1.16.0)\n",
      "Requirement already satisfied: sniffio==1.3.1 in c:\\users\\lmcer\\anaconda3\\envs\\nexium\\lib\\site-packages (from -r ./../requirement.txt (line 83)) (1.3.1)\n",
      "Requirement already satisfied: soupsieve==2.6 in c:\\users\\lmcer\\anaconda3\\envs\\nexium\\lib\\site-packages (from -r ./../requirement.txt (line 84)) (2.6)\n",
      "Requirement already satisfied: sqlparse==0.5.1 in c:\\users\\lmcer\\anaconda3\\envs\\nexium\\lib\\site-packages (from -r ./../requirement.txt (line 85)) (0.5.1)\n",
      "Requirement already satisfied: stack-data==0.6.3 in c:\\users\\lmcer\\anaconda3\\envs\\nexium\\lib\\site-packages (from -r ./../requirement.txt (line 86)) (0.6.3)\n",
      "Requirement already satisfied: terminado==0.18.1 in c:\\users\\lmcer\\anaconda3\\envs\\nexium\\lib\\site-packages (from -r ./../requirement.txt (line 87)) (0.18.1)\n",
      "Requirement already satisfied: tinycss2==1.3.0 in c:\\users\\lmcer\\anaconda3\\envs\\nexium\\lib\\site-packages (from -r ./../requirement.txt (line 88)) (1.3.0)\n",
      "Requirement already satisfied: tornado==6.4.1 in c:\\users\\lmcer\\anaconda3\\envs\\nexium\\lib\\site-packages (from -r ./../requirement.txt (line 89)) (6.4.1)\n",
      "Requirement already satisfied: traitlets==5.14.3 in c:\\users\\lmcer\\anaconda3\\envs\\nexium\\lib\\site-packages (from -r ./../requirement.txt (line 90)) (5.14.3)\n",
      "Requirement already satisfied: types-python-dateutil==2.9.0.20240906 in c:\\users\\lmcer\\anaconda3\\envs\\nexium\\lib\\site-packages (from -r ./../requirement.txt (line 91)) (2.9.0.20240906)\n",
      "Requirement already satisfied: typing_extensions==4.12.2 in c:\\users\\lmcer\\anaconda3\\envs\\nexium\\lib\\site-packages (from -r ./../requirement.txt (line 92)) (4.12.2)\n",
      "Requirement already satisfied: uri-template==1.3.0 in c:\\users\\lmcer\\anaconda3\\envs\\nexium\\lib\\site-packages (from -r ./../requirement.txt (line 93)) (1.3.0)\n",
      "Requirement already satisfied: urllib3==2.2.3 in c:\\users\\lmcer\\anaconda3\\envs\\nexium\\lib\\site-packages (from -r ./../requirement.txt (line 94)) (2.2.3)\n",
      "Requirement already satisfied: wcwidth==0.2.13 in c:\\users\\lmcer\\anaconda3\\envs\\nexium\\lib\\site-packages (from -r ./../requirement.txt (line 95)) (0.2.13)\n",
      "Requirement already satisfied: webcolors==24.8.0 in c:\\users\\lmcer\\anaconda3\\envs\\nexium\\lib\\site-packages (from -r ./../requirement.txt (line 96)) (24.8.0)\n",
      "Requirement already satisfied: webencodings==0.5.1 in c:\\users\\lmcer\\anaconda3\\envs\\nexium\\lib\\site-packages (from -r ./../requirement.txt (line 97)) (0.5.1)\n",
      "Requirement already satisfied: websocket-client==1.8.0 in c:\\users\\lmcer\\anaconda3\\envs\\nexium\\lib\\site-packages (from -r ./../requirement.txt (line 98)) (1.8.0)\n",
      "Requirement already satisfied: tzdata in c:\\users\\lmcer\\anaconda3\\envs\\nexium\\lib\\site-packages (from Django==5.0.9->-r ./../requirement.txt (line 20)) (2024.2)\n",
      "Requirement already satisfied: colorama in c:\\users\\lmcer\\anaconda3\\envs\\nexium\\lib\\site-packages (from ipython==8.27.0->-r ./../requirement.txt (line 30)) (0.4.6)\n",
      "Requirement already satisfied: pywin32>=300 in c:\\users\\lmcer\\anaconda3\\envs\\nexium\\lib\\site-packages (from jupyter_core==5.7.2->-r ./../requirement.txt (line 41)) (306)\n",
      "Requirement already satisfied: pywinpty>=2.0.1 in c:\\users\\lmcer\\anaconda3\\envs\\nexium\\lib\\site-packages (from jupyter_server==2.14.2->-r ./../requirement.txt (line 42)) (2.0.13)\n",
      "Requirement already satisfied: setuptools>=40.1.0 in c:\\users\\lmcer\\anaconda3\\envs\\nexium\\lib\\site-packages (from jupyterlab==4.2.5->-r ./../requirement.txt (line 44)) (75.1.0)\n",
      "Note: you may need to restart the kernel to use updated packages.\n"
     ]
    }
   ],
   "source": [
    "%pip install -r ./../requirement.txt"
   ]
  },
  {
   "cell_type": "code",
   "execution_count": 35,
   "metadata": {},
   "outputs": [],
   "source": [
    "# Bibliotecas necesarias\n",
    "import pandas as pd\n",
    "import numpy as np\n",
    "import requests\n",
    "import os"
   ]
  },
  {
   "cell_type": "markdown",
   "metadata": {},
   "source": [
    "# Reportes de folios"
   ]
  },
  {
   "cell_type": "code",
   "execution_count": 42,
   "metadata": {},
   "outputs": [],
   "source": [
    "servidores = {\n",
    "    \"centro\" : \"26.61.16.123\",\n",
    "    \"araucarias\" : \"26.217.212.35\",\n",
    "    \"cedis\" : \"26.207.163.198\"\n",
    "}"
   ]
  },
  {
   "cell_type": "code",
   "execution_count": 43,
   "metadata": {},
   "outputs": [],
   "source": [
    "# Definir los parametros de la API\n",
    "try:\n",
    "    parametros = {\n",
    "        \"fecha\": \"2024-09-28\",\n",
    "        \"servidor\" : servidores[\"centro\"]\n",
    "    }\n",
    "    api = f'http://{parametros[\"servidor\"]}:8000'\n",
    "except Exception as e:\n",
    "    print(\"El servidor no se encuentra disponible\")"
   ]
  },
  {
   "cell_type": "code",
   "execution_count": 44,
   "metadata": {},
   "outputs": [],
   "source": [
    "# Hacer la peticion a la API\n",
    "try:\n",
    "    ventas = requests.get(f'{api}/mantenimiento/ventas', json=parametros)\n",
    "    ventas = ventas.json()\n",
    "except requests.exceptions.RequestException as e:\n",
    "    print(\"Error: El endpoint no esta disponible, intente mas tarde o contacte con el administrador\")\n",
    "    exit()"
   ]
  },
  {
   "cell_type": "code",
   "execution_count": 45,
   "metadata": {},
   "outputs": [],
   "source": [
    "# Crear el Marco de Datos para las ventas\n",
    "df_ventas = pd.DataFrame(ventas)"
   ]
  },
  {
   "cell_type": "code",
   "execution_count": 46,
   "metadata": {},
   "outputs": [],
   "source": [
    "# Cambiar las celdas efectivo, tarjeta y total a float\n",
    "df_ventas[\"efectivo\"] = df_ventas[\"efectivo\"].astype(float)\n",
    "df_ventas[\"tarjeta\"] = df_ventas[\"tarjeta\"].astype(float)\n",
    "df_ventas[\"total\"] = df_ventas[\"total\"].astype(float)"
   ]
  },
  {
   "cell_type": "code",
   "execution_count": 52,
   "metadata": {},
   "outputs": [],
   "source": [
    "# Folios: efectivo >= a 120 & tarjeta == 0 & facturado == false\n",
    "folios_mantenimiento = df_ventas[(df_ventas[\"efectivo\"] >= 120) & (df_ventas[\"tarjeta\"] == 0) & (df_ventas[\"facturado\"] == False)]\n",
    "folios_mantenimiento.to_csv(f'Folios_Para_Procesar_{parametros[\"fecha\"]}.csv', index=False)\n",
    "\n",
    "# Tamaño / Numero de folios disponibles para aplicar un mantenimiento\n",
    "num_folios = np.array(folios_mantenimiento[\"folio\"]).size"
   ]
  },
  {
   "cell_type": "code",
   "execution_count": 54,
   "metadata": {},
   "outputs": [],
   "source": [
    "# Folios: facturado == true & efectivo > 0 & tarjeta == 0\n",
    "folios_facturados_efectivo = df_ventas[(df_ventas[\"facturado\"] == True) & (df_ventas[\"efectivo\"] > 0) & (df_ventas[\"tarjeta\"] == 0)]\n",
    "folios_facturados_efectivo.to_csv(f'Folios_Facturados_Efectivo_{parametros[\"fecha\"]}.csv', index=False)\n",
    "\n",
    "# Numero de folios facturados con efectivo\n",
    "num_folios_facturados_efectivo = np.array(folios_facturados_efectivo[\"folio\"]).size"
   ]
  }
 ],
 "metadata": {
  "kernelspec": {
   "display_name": "Python 3 (ipykernel)",
   "language": "python",
   "name": "python3"
  },
  "language_info": {
   "codemirror_mode": {
    "name": "ipython",
    "version": 3
   },
   "file_extension": ".py",
   "mimetype": "text/x-python",
   "name": "python",
   "nbconvert_exporter": "python",
   "pygments_lexer": "ipython3",
   "version": "3.11.10"
  }
 },
 "nbformat": 4,
 "nbformat_minor": 4
}
